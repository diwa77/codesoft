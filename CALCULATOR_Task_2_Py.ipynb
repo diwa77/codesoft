{
  "cells": [
    {
      "cell_type": "markdown",
      "metadata": {
        "id": "view-in-github",
        "colab_type": "text"
      },
      "source": [
        "<a href=\"https://colab.research.google.com/github/diwa77/codesoft/blob/main/CALCULATOR_Task_2_Py.ipynb\" target=\"_parent\"><img src=\"https://colab.research.google.com/assets/colab-badge.svg\" alt=\"Open In Colab\"/></a>"
      ]
    },
    {
      "cell_type": "code",
      "execution_count": null,
      "metadata": {
        "colab": {
          "base_uri": "https://localhost:8080/"
        },
        "id": "89XnWp07u6aC",
        "outputId": "c6ba1234-5541-4d50-d712-d4d3c0920271"
      },
      "outputs": [
        {
          "output_type": "stream",
          "name": "stdout",
          "text": [
            "Simple Calculator\n",
            "Operations:\n",
            "1. Add\n",
            "2. Subtract\n",
            "3. Multiply\n",
            "4. Divide\n",
            "Select operation (1/2/3/4): 4\n",
            "Enter first number: 6\n",
            "Enter second number: 3\n",
            "Result: 2.0\n"
          ]
        }
      ],
      "source": [
        "def add(x, y):\n",
        "    return x + y\n",
        "\n",
        "def subtract(x, y):\n",
        "    return x - y\n",
        "\n",
        "def multiply(x, y):\n",
        "    return x * y\n",
        "\n",
        "def divide(x, y):\n",
        "    if y == 0:\n",
        "        raise ValueError(\"Cannot divide by zero\")\n",
        "    return x / y\n",
        "\n",
        "print(\"Simple Calculator\")\n",
        "print(\"Operations:\")\n",
        "print(\"1. Add\")\n",
        "print(\"2. Subtract\")\n",
        "print(\"3. Multiply\")\n",
        "print(\"4. Divide\")\n",
        "\n",
        "try:\n",
        "    choice = int(input(\"Select operation (1/2/3/4): \"))\n",
        "    num1 = float(input(\"Enter first number: \"))\n",
        "    num2 = float(input(\"Enter second number: \"))\n",
        "\n",
        "    if choice == 1:\n",
        "        result = add(num1, num2)\n",
        "    elif choice == 2:\n",
        "        result = subtract(num1, num2)\n",
        "    elif choice == 3:\n",
        "        result = multiply(num1, num2)\n",
        "    elif choice == 4:\n",
        "        result = divide(num1, num2)\n",
        "    else:\n",
        "        print(\"Invalid choice\")\n",
        "        exit()\n",
        "\n",
        "    print(\"Result:\", result)\n",
        "\n",
        "except ValueError as e:\n",
        "    print(\"Error:\", e)\n",
        "except ZeroDivisionError as e:\n",
        "    print(\"Error:\", e)\n"
      ]
    }
  ],
  "metadata": {
    "colab": {
      "provenance": [],
      "include_colab_link": true
    },
    "kernelspec": {
      "display_name": "Python 3",
      "name": "python3"
    },
    "language_info": {
      "name": "python"
    }
  },
  "nbformat": 4,
  "nbformat_minor": 0
}