{
  "cells": [
    {
      "cell_type": "markdown",
      "metadata": {
        "id": "view-in-github",
        "colab_type": "text"
      },
      "source": [
        "<a href=\"https://colab.research.google.com/github/diwa77/codesoft/blob/main/Rock_Paper_Scissors_Game_task_4_Py.ipynb\" target=\"_parent\"><img src=\"https://colab.research.google.com/assets/colab-badge.svg\" alt=\"Open In Colab\"/></a>"
      ]
    },
    {
      "cell_type": "code",
      "execution_count": null,
      "metadata": {
        "colab": {
          "base_uri": "https://localhost:8080/"
        },
        "id": "36tCDyS9wjUe",
        "outputId": "a3e2f699-8df6-46f4-d471-1d4b62e2bd0e"
      },
      "outputs": [
        {
          "output_type": "stream",
          "name": "stdout",
          "text": [
            "Weather Forecast Application\n",
            "Enter city name or zip code: banglore\n",
            "Unable to retrieve weather data. Please check the location.\n"
          ]
        }
      ],
      "source": [
        "import requests\n",
        "\n",
        "def get_weather_data(location):\n",
        "    api_key = \"YOUR_API_KEY_HERE\"  # Replace with your OpenWeatherMap API key\n",
        "    base_url = \"http://api.openweathermap.org/data/2.5/weather\"\n",
        "\n",
        "    params = {\n",
        "        \"q\": location,\n",
        "        \"appid\": api_key,\n",
        "        \"units\": \"metric\"  # Use metric units for temperature in Celsius\n",
        "    }\n",
        "\n",
        "    response = requests.get(base_url, params=params)\n",
        "    data = response.json()\n",
        "\n",
        "    return data\n",
        "\n",
        "def display_weather(weather_data):\n",
        "    temperature = weather_data[\"main\"][\"temp\"]\n",
        "    humidity = weather_data[\"main\"][\"humidity\"]\n",
        "    wind_speed = weather_data[\"wind\"][\"speed\"]\n",
        "    weather_description = weather_data[\"weather\"][0][\"description\"]\n",
        "\n",
        "    print(\"Weather Forecast\")\n",
        "    print(f\"Temperature: {temperature}°C\")\n",
        "    print(f\"Humidity: {humidity}%\")\n",
        "    print(f\"Wind Speed: {wind_speed} m/s\")\n",
        "    print(f\"Description: {weather_description.capitalize()}\")\n",
        "\n",
        "def main():\n",
        "    print(\"Weather Forecast Application\")\n",
        "    location = input(\"Enter city name or zip code: \")\n",
        "\n",
        "    weather_data = get_weather_data(location)\n",
        "\n",
        "    if \"main\" in weather_data:\n",
        "        display_weather(weather_data)\n",
        "    else:\n",
        "        print(\"Unable to retrieve weather data. Please check the location.\")\n",
        "\n",
        "if __name__ == \"__main__\":\n",
        "    main()\n"
      ]
    },
    {
      "cell_type": "code",
      "source": [],
      "metadata": {
        "id": "mJIIyXQGjdUN"
      },
      "execution_count": null,
      "outputs": []
    }
  ],
  "metadata": {
    "colab": {
      "provenance": [],
      "include_colab_link": true
    },
    "kernelspec": {
      "display_name": "Python 3",
      "name": "python3"
    },
    "language_info": {
      "name": "python"
    }
  },
  "nbformat": 4,
  "nbformat_minor": 0
}