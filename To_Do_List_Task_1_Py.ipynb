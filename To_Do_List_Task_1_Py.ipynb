{
  "cells": [
    {
      "cell_type": "markdown",
      "metadata": {
        "id": "view-in-github",
        "colab_type": "text"
      },
      "source": [
        "<a href=\"https://colab.research.google.com/github/diwa77/codesoft/blob/main/To_Do_List_Task_1_Py.ipynb\" target=\"_parent\"><img src=\"https://colab.research.google.com/assets/colab-badge.svg\" alt=\"Open In Colab\"/></a>"
      ]
    },
    {
      "cell_type": "code",
      "execution_count": null,
      "metadata": {
        "colab": {
          "base_uri": "https://localhost:8080/"
        },
        "id": "zQMhGiysqufK",
        "outputId": "32042733-400d-42d0-ea41-4a3f6e989cbd"
      },
      "outputs": [
        {
          "metadata": {
            "tags": null
          },
          "name": "stdout",
          "output_type": "stream",
          "text": [
            "To-Do List Application\n",
            "1. Add Task\n",
            "2. Mark Task as Completed\n",
            "3. Show Tasks\n",
            "4. Exit\n",
            "\n",
            "To-Do List:\n",
            "\n"
          ]
        }
      ],
      "source": [
        "class ToDoList:\n",
        "    def __init__(self):\n",
        "        self.tasks = []\n",
        "\n",
        "    def add_task(self, task):\n",
        "        self.tasks.append({\"task\": task, \"completed\": False})\n",
        "\n",
        "    def mark_completed(self, task_index):\n",
        "        if 0 <= task_index < len(self.tasks):\n",
        "            self.tasks[task_index][\"completed\"] = True\n",
        "        else:\n",
        "            print(\"Invalid task index.\")\n",
        "\n",
        "    def show_tasks(self):\n",
        "        print(\"\\nTo-Do List:\")\n",
        "        for i, task in enumerate(self.tasks):\n",
        "            status = \"✓\" if task[\"completed\"] else \" \"\n",
        "            print(f\"{i + 1}. [{status}] {task['task']}\")\n",
        "        print()\n",
        "\n",
        "def main():\n",
        "    todo_list = ToDoList()\n",
        "\n",
        "    while True:\n",
        "        print(\"To-Do List Application\")\n",
        "        print(\"1. Add Task\")\n",
        "        print(\"2. Mark Task as Completed\")\n",
        "        print(\"3. Show Tasks\")\n",
        "        print(\"4. Exit\")\n",
        "\n",
        "        choice = input(\"Select an option: \")\n",
        "\n",
        "        if choice == \"1\":\n",
        "            task = input(\"Enter task: \")\n",
        "            todo_list.add_task(task)\n",
        "        elif choice == \"2\":\n",
        "            todo_list.show_tasks()\n",
        "            task_index = int(input(\"Enter task index to mark as completed: \")) - 1\n",
        "            todo_list.mark_completed(task_index)\n",
        "        elif choice == \"3\":\n",
        "            todo_list.show_tasks()\n",
        "        elif choice == \"4\":\n",
        "            print(\"Exiting...\")\n",
        "            break\n",
        "        else:\n",
        "            print(\"Invalid choice. Please select a valid option.\")\n",
        "\n",
        "if __name__ == \"__main__\":\n",
        "    main()\n"
      ]
    }
  ],
  "metadata": {
    "colab": {
      "provenance": [],
      "include_colab_link": true
    },
    "kernelspec": {
      "display_name": "Python 3",
      "name": "python3"
    },
    "language_info": {
      "name": "python"
    }
  },
  "nbformat": 4,
  "nbformat_minor": 0
}